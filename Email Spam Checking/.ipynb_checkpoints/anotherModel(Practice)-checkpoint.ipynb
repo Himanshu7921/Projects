{
 "cells": [
  {
   "cell_type": "code",
   "execution_count": 1,
   "id": "f3ade89b-33c6-4d6e-9986-6fa769cdcc35",
   "metadata": {},
   "outputs": [],
   "source": [
    "import string\n",
    "\n",
    "import sklearn\n",
    "from sklearn.model_selection import train_test_split\n",
    "from sklearn.feature_extraction.text import CountVectorizer\n",
    "\n",
    "import numpy as np\n",
    "import pandas as pd\n",
    "\n",
    "import nltk\n",
    "from nltk.corpus import stopwords\n",
    "from nltk.stem.porter import PorterStemmer\n",
    "\n",
    "import torch\n",
    "import torch. nn as nn\n",
    "from torchmetrics import Accuracy\n",
    "import matplotlib.pyplot as plt\n",
    "\n",
    "import torchmetrics\n",
    "from torchmetrics import Accuracy\n",
    "\n",
    "from sklearn.ensemble import RandomForestClassifier\n",
    "from sklearn.linear_model import LogisticRegression\n",
    "from sklearn.metrics import accuracy_score"
   ]
  },
  {
   "cell_type": "code",
   "execution_count": 2,
   "id": "eb539fca-ed1a-4ac8-b3a5-85c04ccebe10",
   "metadata": {},
   "outputs": [],
   "source": [
    "PATH = \"dataset.csv\"\n",
    "data = pd.read_csv(PATH, encoding='latin-1')"
   ]
  },
  {
   "cell_type": "code",
   "execution_count": 3,
   "id": "05b39771-b42c-4088-a80c-ace4a959b295",
   "metadata": {},
   "outputs": [
    {
     "data": {
      "text/html": [
       "<div>\n",
       "<style scoped>\n",
       "    .dataframe tbody tr th:only-of-type {\n",
       "        vertical-align: middle;\n",
       "    }\n",
       "\n",
       "    .dataframe tbody tr th {\n",
       "        vertical-align: top;\n",
       "    }\n",
       "\n",
       "    .dataframe thead th {\n",
       "        text-align: right;\n",
       "    }\n",
       "</style>\n",
       "<table border=\"1\" class=\"dataframe\">\n",
       "  <thead>\n",
       "    <tr style=\"text-align: right;\">\n",
       "      <th></th>\n",
       "      <th>v1</th>\n",
       "      <th>v2</th>\n",
       "      <th>Unnamed: 2</th>\n",
       "      <th>Unnamed: 3</th>\n",
       "      <th>Unnamed: 4</th>\n",
       "    </tr>\n",
       "  </thead>\n",
       "  <tbody>\n",
       "    <tr>\n",
       "      <th>0</th>\n",
       "      <td>ham</td>\n",
       "      <td>Go until jurong point, crazy.. Available only ...</td>\n",
       "      <td>NaN</td>\n",
       "      <td>NaN</td>\n",
       "      <td>NaN</td>\n",
       "    </tr>\n",
       "    <tr>\n",
       "      <th>1</th>\n",
       "      <td>ham</td>\n",
       "      <td>Ok lar... Joking wif u oni...</td>\n",
       "      <td>NaN</td>\n",
       "      <td>NaN</td>\n",
       "      <td>NaN</td>\n",
       "    </tr>\n",
       "    <tr>\n",
       "      <th>2</th>\n",
       "      <td>spam</td>\n",
       "      <td>Free entry in 2 a wkly comp to win FA Cup fina...</td>\n",
       "      <td>NaN</td>\n",
       "      <td>NaN</td>\n",
       "      <td>NaN</td>\n",
       "    </tr>\n",
       "    <tr>\n",
       "      <th>3</th>\n",
       "      <td>ham</td>\n",
       "      <td>U dun say so early hor... U c already then say...</td>\n",
       "      <td>NaN</td>\n",
       "      <td>NaN</td>\n",
       "      <td>NaN</td>\n",
       "    </tr>\n",
       "    <tr>\n",
       "      <th>4</th>\n",
       "      <td>ham</td>\n",
       "      <td>Nah I don't think he goes to usf, he lives aro...</td>\n",
       "      <td>NaN</td>\n",
       "      <td>NaN</td>\n",
       "      <td>NaN</td>\n",
       "    </tr>\n",
       "    <tr>\n",
       "      <th>...</th>\n",
       "      <td>...</td>\n",
       "      <td>...</td>\n",
       "      <td>...</td>\n",
       "      <td>...</td>\n",
       "      <td>...</td>\n",
       "    </tr>\n",
       "    <tr>\n",
       "      <th>5567</th>\n",
       "      <td>spam</td>\n",
       "      <td>This is the 2nd time we have tried 2 contact u...</td>\n",
       "      <td>NaN</td>\n",
       "      <td>NaN</td>\n",
       "      <td>NaN</td>\n",
       "    </tr>\n",
       "    <tr>\n",
       "      <th>5568</th>\n",
       "      <td>ham</td>\n",
       "      <td>Will Ì_ b going to esplanade fr home?</td>\n",
       "      <td>NaN</td>\n",
       "      <td>NaN</td>\n",
       "      <td>NaN</td>\n",
       "    </tr>\n",
       "    <tr>\n",
       "      <th>5569</th>\n",
       "      <td>ham</td>\n",
       "      <td>Pity, * was in mood for that. So...any other s...</td>\n",
       "      <td>NaN</td>\n",
       "      <td>NaN</td>\n",
       "      <td>NaN</td>\n",
       "    </tr>\n",
       "    <tr>\n",
       "      <th>5570</th>\n",
       "      <td>ham</td>\n",
       "      <td>The guy did some bitching but I acted like i'd...</td>\n",
       "      <td>NaN</td>\n",
       "      <td>NaN</td>\n",
       "      <td>NaN</td>\n",
       "    </tr>\n",
       "    <tr>\n",
       "      <th>5571</th>\n",
       "      <td>ham</td>\n",
       "      <td>Rofl. Its true to its name</td>\n",
       "      <td>NaN</td>\n",
       "      <td>NaN</td>\n",
       "      <td>NaN</td>\n",
       "    </tr>\n",
       "  </tbody>\n",
       "</table>\n",
       "<p>5572 rows × 5 columns</p>\n",
       "</div>"
      ],
      "text/plain": [
       "        v1                                                 v2 Unnamed: 2  \\\n",
       "0      ham  Go until jurong point, crazy.. Available only ...        NaN   \n",
       "1      ham                      Ok lar... Joking wif u oni...        NaN   \n",
       "2     spam  Free entry in 2 a wkly comp to win FA Cup fina...        NaN   \n",
       "3      ham  U dun say so early hor... U c already then say...        NaN   \n",
       "4      ham  Nah I don't think he goes to usf, he lives aro...        NaN   \n",
       "...    ...                                                ...        ...   \n",
       "5567  spam  This is the 2nd time we have tried 2 contact u...        NaN   \n",
       "5568   ham              Will Ì_ b going to esplanade fr home?        NaN   \n",
       "5569   ham  Pity, * was in mood for that. So...any other s...        NaN   \n",
       "5570   ham  The guy did some bitching but I acted like i'd...        NaN   \n",
       "5571   ham                         Rofl. Its true to its name        NaN   \n",
       "\n",
       "     Unnamed: 3 Unnamed: 4  \n",
       "0           NaN        NaN  \n",
       "1           NaN        NaN  \n",
       "2           NaN        NaN  \n",
       "3           NaN        NaN  \n",
       "4           NaN        NaN  \n",
       "...         ...        ...  \n",
       "5567        NaN        NaN  \n",
       "5568        NaN        NaN  \n",
       "5569        NaN        NaN  \n",
       "5570        NaN        NaN  \n",
       "5571        NaN        NaN  \n",
       "\n",
       "[5572 rows x 5 columns]"
      ]
     },
     "execution_count": 3,
     "metadata": {},
     "output_type": "execute_result"
    }
   ],
   "source": [
    "data"
   ]
  },
  {
   "cell_type": "code",
   "execution_count": 4,
   "id": "6df7b657-6d0f-4f0f-bd15-0c7f016b99f3",
   "metadata": {},
   "outputs": [],
   "source": [
    "# data = data.where(pd.notnull(data), ' ')"
   ]
  },
  {
   "cell_type": "code",
   "execution_count": 5,
   "id": "a724008d-9cec-4423-a0f0-fe558d1d00dd",
   "metadata": {},
   "outputs": [
    {
     "name": "stderr",
     "output_type": "stream",
     "text": [
      "C:\\Users\\Himanshu Singh\\AppData\\Local\\Temp\\ipykernel_26084\\3081369320.py:3: FutureWarning: Downcasting behavior in `replace` is deprecated and will be removed in a future version. To retain the old behavior, explicitly call `result.infer_objects(copy=False)`. To opt-in to the future behavior, set `pd.set_option('future.no_silent_downcasting', True)`\n",
      "  data['Labels'] = data['Labels'].replace({'spam': 0, 'ham': 1})\n",
      "C:\\Users\\Himanshu Singh\\AppData\\Local\\Temp\\ipykernel_26084\\3081369320.py:3: SettingWithCopyWarning: \n",
      "A value is trying to be set on a copy of a slice from a DataFrame.\n",
      "Try using .loc[row_indexer,col_indexer] = value instead\n",
      "\n",
      "See the caveats in the documentation: https://pandas.pydata.org/pandas-docs/stable/user_guide/indexing.html#returning-a-view-versus-a-copy\n",
      "  data['Labels'] = data['Labels'].replace({'spam': 0, 'ham': 1})\n"
     ]
    },
    {
     "data": {
      "text/html": [
       "<div>\n",
       "<style scoped>\n",
       "    .dataframe tbody tr th:only-of-type {\n",
       "        vertical-align: middle;\n",
       "    }\n",
       "\n",
       "    .dataframe tbody tr th {\n",
       "        vertical-align: top;\n",
       "    }\n",
       "\n",
       "    .dataframe thead th {\n",
       "        text-align: right;\n",
       "    }\n",
       "</style>\n",
       "<table border=\"1\" class=\"dataframe\">\n",
       "  <thead>\n",
       "    <tr style=\"text-align: right;\">\n",
       "      <th></th>\n",
       "      <th>Labels</th>\n",
       "      <th>Message</th>\n",
       "    </tr>\n",
       "  </thead>\n",
       "  <tbody>\n",
       "    <tr>\n",
       "      <th>0</th>\n",
       "      <td>1</td>\n",
       "      <td>Go until jurong point, crazy.. Available only ...</td>\n",
       "    </tr>\n",
       "    <tr>\n",
       "      <th>1</th>\n",
       "      <td>1</td>\n",
       "      <td>Ok lar... Joking wif u oni...</td>\n",
       "    </tr>\n",
       "    <tr>\n",
       "      <th>2</th>\n",
       "      <td>0</td>\n",
       "      <td>Free entry in 2 a wkly comp to win FA Cup fina...</td>\n",
       "    </tr>\n",
       "    <tr>\n",
       "      <th>3</th>\n",
       "      <td>1</td>\n",
       "      <td>U dun say so early hor... U c already then say...</td>\n",
       "    </tr>\n",
       "    <tr>\n",
       "      <th>4</th>\n",
       "      <td>1</td>\n",
       "      <td>Nah I don't think he goes to usf, he lives aro...</td>\n",
       "    </tr>\n",
       "  </tbody>\n",
       "</table>\n",
       "</div>"
      ],
      "text/plain": [
       "   Labels                                            Message\n",
       "0       1  Go until jurong point, crazy.. Available only ...\n",
       "1       1                      Ok lar... Joking wif u oni...\n",
       "2       0  Free entry in 2 a wkly comp to win FA Cup fina...\n",
       "3       1  U dun say so early hor... U c already then say...\n",
       "4       1  Nah I don't think he goes to usf, he lives aro..."
      ]
     },
     "execution_count": 5,
     "metadata": {},
     "output_type": "execute_result"
    }
   ],
   "source": [
    "data.rename(columns={'v1': 'Labels', 'v2': 'Message'}, inplace=True)\n",
    "data = data.iloc[:, :2] \n",
    "data['Labels'] = data['Labels'].replace({'spam': 0, 'ham': 1})\n",
    "data.head()\n",
    "\n",
    "# 0 : Spam\n",
    "# 1: No spam"
   ]
  },
  {
   "cell_type": "code",
   "execution_count": 6,
   "id": "72df8594-a3ae-440a-bc17-b888c21b9420",
   "metadata": {},
   "outputs": [
    {
     "name": "stdout",
     "output_type": "stream",
     "text": [
      "<class 'pandas.core.frame.DataFrame'>\n",
      "RangeIndex: 5572 entries, 0 to 5571\n",
      "Data columns (total 2 columns):\n",
      " #   Column   Non-Null Count  Dtype \n",
      "---  ------   --------------  ----- \n",
      " 0   Labels   5572 non-null   int64 \n",
      " 1   Message  5572 non-null   object\n",
      "dtypes: int64(1), object(1)\n",
      "memory usage: 87.2+ KB\n"
     ]
    },
    {
     "data": {
      "text/plain": [
       "(None, pandas.core.frame.DataFrame)"
      ]
     },
     "execution_count": 6,
     "metadata": {},
     "output_type": "execute_result"
    }
   ],
   "source": [
    "data.info(), type(data)"
   ]
  },
  {
   "cell_type": "code",
   "execution_count": 7,
   "id": "38d1b59b-ca08-479a-8c22-6c28a0be822d",
   "metadata": {},
   "outputs": [],
   "source": [
    "stemmer = PorterStemmer()\n",
    "corpus = []\n",
    "sp_words = set(stopwords.words('english'))\n",
    "for i in range(len(data)):\n",
    "    text = data['Message'].iloc[i].lower()\n",
    "    text = text.translate(str.maketrans('', '', string.punctuation)).split()\n",
    "    text = [stemmer.stem(word) for word in text if word not in sp_words]\n",
    "    text = ' '.join(text)\n",
    "    corpus.append(text)"
   ]
  },
  {
   "cell_type": "code",
   "execution_count": 8,
   "id": "c2304c86-e097-4126-9c48-cb24c532f34b",
   "metadata": {},
   "outputs": [],
   "source": [
    "vectorizer = CountVectorizer()\n",
    "X = vectorizer.fit_transform(corpus).toarray()\n",
    "Y = data['Labels']\n",
    "X_train, X_test, Y_train, Y_test = train_test_split(X, Y, test_size = 0.2)"
   ]
  },
  {
   "cell_type": "code",
   "execution_count": 9,
   "id": "035e6781-384a-496b-afe8-c43a5aa5a0d3",
   "metadata": {},
   "outputs": [
    {
     "data": {
      "text/plain": [
       "45044"
      ]
     },
     "execution_count": 9,
     "metadata": {},
     "output_type": "execute_result"
    }
   ],
   "source": [
    "(X == 1).sum().item()"
   ]
  },
  {
   "cell_type": "code",
   "execution_count": 10,
   "id": "9464a686-00d6-431d-b198-e4e89f8f19fa",
   "metadata": {},
   "outputs": [
    {
     "data": {
      "text/plain": [
       "46979"
      ]
     },
     "execution_count": 10,
     "metadata": {},
     "output_type": "execute_result"
    }
   ],
   "source": [
    "5572 * 8038 - 44740757"
   ]
  },
  {
   "cell_type": "code",
   "execution_count": 11,
   "id": "9282b937-5440-45f6-9ed8-50ec87a9743d",
   "metadata": {},
   "outputs": [],
   "source": [
    "device = 'cuda' if torch.cuda.is_available() else 'CPU'"
   ]
  },
  {
   "cell_type": "code",
   "execution_count": 12,
   "id": "aeb39b05-4df4-4025-a5f4-2fae86f62baf",
   "metadata": {},
   "outputs": [],
   "source": [
    "X_train = torch.tensor(X_train).type(torch.float).to(device)\n",
    "X_test = torch.tensor(X_test).type(torch.float).to(device)\n",
    "Y_train = torch.tensor(np.array(Y_train)).type(torch.float).to(device)\n",
    "Y_test = torch.tensor(np.array(Y_test)).type(torch.float).to(device)"
   ]
  },
  {
   "cell_type": "code",
   "execution_count": 13,
   "id": "e9691315-f172-4a86-ac2e-4ee7eaf52236",
   "metadata": {},
   "outputs": [
    {
     "data": {
      "text/plain": [
       "(torch.Size([4457, 8038]), torch.Size([1115, 8038]))"
      ]
     },
     "execution_count": 13,
     "metadata": {},
     "output_type": "execute_result"
    }
   ],
   "source": [
    "X_train.shape, X_test.shape"
   ]
  },
  {
   "cell_type": "code",
   "execution_count": 14,
   "id": "156acc6e-2d4a-437c-85de-3d509cc08a4e",
   "metadata": {},
   "outputs": [],
   "source": [
    "class MyModel(nn.Module):\n",
    "    def __init__(self, input_dim):\n",
    "        super(MyModel, self).__init__()\n",
    "        self.linear = nn.Linear(input_dim, 1)  # Input features to one output (spam or not spam)\n",
    "\n",
    "    def forward(self, x):\n",
    "        return torch.sigmoid(self.linear(x))  # Apply sigmoid for binary classification\n",
    "\n",
    "# Initialize the model\n",
    "torch.manual_seed(42)\n",
    "model = MyModel(8038).to(device)"
   ]
  },
  {
   "cell_type": "code",
   "execution_count": 15,
   "id": "4fee47bb-e759-422b-84fa-0914e3e87e7b",
   "metadata": {},
   "outputs": [],
   "source": [
    "# Loss function and optimizer\n",
    "loss_fn = nn.BCELoss()  # Binary Cross Entropy Loss for binary classification\n",
    "optimizer = torch.optim.Adam(model.parameters(), lr=0.001)"
   ]
  },
  {
   "cell_type": "code",
   "execution_count": 16,
   "id": "24dfcbd8-f84c-4712-8b93-5aa6c87878fd",
   "metadata": {},
   "outputs": [],
   "source": [
    "acc = Accuracy(task=\"multiclass\", num_classes=2).to(device)"
   ]
  },
  {
   "cell_type": "code",
   "execution_count": 17,
   "id": "a47e583e-376a-4729-a3a6-3e81664faf7a",
   "metadata": {},
   "outputs": [
    {
     "name": "stdout",
     "output_type": "stream",
     "text": [
      "Epoch [100/6000], Loss: 0.4190\n",
      "Epoch [200/6000], Loss: 0.2920\n",
      "Epoch [300/6000], Loss: 0.2207\n",
      "Epoch [400/6000], Loss: 0.1752\n",
      "Epoch [500/6000], Loss: 0.1436\n",
      "Epoch [600/6000], Loss: 0.1206\n",
      "Epoch [700/6000], Loss: 0.1031\n",
      "Epoch [800/6000], Loss: 0.0894\n",
      "Epoch [900/6000], Loss: 0.0785\n",
      "Epoch [1000/6000], Loss: 0.0695\n",
      "Epoch [1100/6000], Loss: 0.0620\n",
      "Epoch [1200/6000], Loss: 0.0558\n",
      "Epoch [1300/6000], Loss: 0.0504\n",
      "Epoch [1400/6000], Loss: 0.0458\n",
      "Epoch [1500/6000], Loss: 0.0418\n",
      "Epoch [1600/6000], Loss: 0.0383\n",
      "Epoch [1700/6000], Loss: 0.0353\n",
      "Epoch [1800/6000], Loss: 0.0325\n",
      "Epoch [1900/6000], Loss: 0.0301\n",
      "Epoch [2000/6000], Loss: 0.0279\n",
      "Epoch [2100/6000], Loss: 0.0260\n",
      "Epoch [2200/6000], Loss: 0.0242\n",
      "Epoch [2300/6000], Loss: 0.0226\n",
      "Epoch [2400/6000], Loss: 0.0211\n",
      "Epoch [2500/6000], Loss: 0.0198\n",
      "Epoch [2600/6000], Loss: 0.0186\n",
      "Epoch [2700/6000], Loss: 0.0174\n",
      "Epoch [2800/6000], Loss: 0.0164\n",
      "Epoch [2900/6000], Loss: 0.0154\n",
      "Epoch [3000/6000], Loss: 0.0145\n",
      "Epoch [3100/6000], Loss: 0.0137\n",
      "Epoch [3200/6000], Loss: 0.0129\n",
      "Epoch [3300/6000], Loss: 0.0122\n",
      "Epoch [3400/6000], Loss: 0.0116\n",
      "Epoch [3500/6000], Loss: 0.0109\n",
      "Epoch [3600/6000], Loss: 0.0104\n",
      "Epoch [3700/6000], Loss: 0.0098\n",
      "Epoch [3800/6000], Loss: 0.0093\n",
      "Epoch [3900/6000], Loss: 0.0088\n",
      "Epoch [4000/6000], Loss: 0.0084\n",
      "Epoch [4100/6000], Loss: 0.0079\n",
      "Epoch [4200/6000], Loss: 0.0076\n",
      "Epoch [4300/6000], Loss: 0.0072\n",
      "Epoch [4400/6000], Loss: 0.0068\n",
      "Epoch [4500/6000], Loss: 0.0065\n",
      "Epoch [4600/6000], Loss: 0.0062\n",
      "Epoch [4700/6000], Loss: 0.0059\n",
      "Epoch [4800/6000], Loss: 0.0056\n",
      "Epoch [4900/6000], Loss: 0.0053\n",
      "Epoch [5000/6000], Loss: 0.0051\n",
      "Epoch [5100/6000], Loss: 0.0048\n",
      "Epoch [5200/6000], Loss: 0.0046\n",
      "Epoch [5300/6000], Loss: 0.0044\n",
      "Epoch [5400/6000], Loss: 0.0042\n",
      "Epoch [5500/6000], Loss: 0.0040\n",
      "Epoch [5600/6000], Loss: 0.0038\n",
      "Epoch [5700/6000], Loss: 0.0036\n",
      "Epoch [5800/6000], Loss: 0.0035\n",
      "Epoch [5900/6000], Loss: 0.0033\n",
      "Epoch [6000/6000], Loss: 0.0032\n"
     ]
    }
   ],
   "source": [
    "epochs = 6000\n",
    "for epoch in range(epochs):\n",
    "    model.train()\n",
    "    \n",
    "    # Forward pass\n",
    "    y_pred = model(X_train).squeeze()\n",
    "    \n",
    "    # Compute the loss\n",
    "    loss = loss_fn(y_pred, Y_train)\n",
    "    \n",
    "    # Zero gradients, backward pass, optimizer step\n",
    "    optimizer.zero_grad()\n",
    "    loss.backward()\n",
    "    optimizer.step()\n",
    "\n",
    "    if (epoch + 1) % 100 == 0:\n",
    "        print(f\"Epoch [{epoch+1}/{epochs}], Loss: {loss.item():.4f}\")"
   ]
  },
  {
   "cell_type": "code",
   "execution_count": 18,
   "id": "d2e5723f-112a-429a-b074-cdfb1847b46d",
   "metadata": {},
   "outputs": [
    {
     "name": "stdout",
     "output_type": "stream",
     "text": [
      "Test Accuracy: 97.58%\n"
     ]
    }
   ],
   "source": [
    "# Step 6: Evaluate the model\n",
    "model.eval()\n",
    "with torch.no_grad():\n",
    "    y_test_pred = model(X_test).squeeze()\n",
    "    y_test_pred = (y_test_pred >= 0.5).float()  # Convert probabilities to binary predictions\n",
    "\n",
    "    # Move tensor to CPU before converting to numpy\n",
    "    y_test_pred_cpu = y_test_pred.cpu().numpy()\n",
    "\n",
    "    # Assuming Y_test is also a PyTorch tensor, move it to CPU and convert to numpy\n",
    "    Y_test_cpu = Y_test.cpu().numpy()\n",
    "\n",
    "    # Calculate accuracy using numpy arrays\n",
    "    accuracy = (y_test_pred_cpu == Y_test_cpu).mean()\n",
    "    print(f\"Test Accuracy: {accuracy * 100:.2f}%\")\n"
   ]
  },
  {
   "cell_type": "code",
   "execution_count": 19,
   "id": "0cfc5b03-eb02-448e-8961-fe6f1d48520d",
   "metadata": {},
   "outputs": [],
   "source": [
    "# # clf = RandomForestClassifier()\n",
    "# lr = LogisticRegression()\n",
    "# # clf.fit(X_train, Y_train)\n",
    "# lr.fit(X_train, Y_train)"
   ]
  },
  {
   "cell_type": "code",
   "execution_count": 20,
   "id": "2ff63ba2-7c6e-44e4-8695-1b23044ab554",
   "metadata": {},
   "outputs": [],
   "source": [
    "# # clf.score(X_test, Y_test)\n",
    "# lr.score(X_test, Y_test)"
   ]
  },
  {
   "cell_type": "code",
   "execution_count": 21,
   "id": "a9616bb0-be31-418b-ab15-e259c7d350e2",
   "metadata": {},
   "outputs": [
    {
     "name": "stdout",
     "output_type": "stream",
     "text": [
      "\u001b[1m\u001b[36m                                                       Spam or Not Spam Detector 🌟\u001b[0m\n",
      "\u001b[35m                                                   ====================================\u001b[0m\n"
     ]
    },
    {
     "name": "stdin",
     "output_type": "stream",
     "text": [
      "\u001b[33m\n",
      "Enter the email text to check: \u001b[0m no spam\n"
     ]
    },
    {
     "name": "stdout",
     "output_type": "stream",
     "text": [
      "\u001b[1m\u001b[32m\n",
      "✅ Provided Email is Not Spam!\u001b[0m\n",
      "\u001b[32mYour inbox is safe! 😊\u001b[0m\n",
      "\n",
      "Thank you for using the Spam Detector! 🚀 😊\n"
     ]
    },
    {
     "name": "stdin",
     "output_type": "stream",
     "text": [
      "\u001b[33m\n",
      "Do you want to check another email? (y/n): \u001b[0m y\n"
     ]
    },
    {
     "name": "stdout",
     "output_type": "stream",
     "text": [
      "\u001b[1m\u001b[36m                                                       Spam or Not Spam Detector 🌟\u001b[0m\n",
      "\u001b[35m                                                   ====================================\u001b[0m\n"
     ]
    },
    {
     "name": "stdin",
     "output_type": "stream",
     "text": [
      "\u001b[33m\n",
      "Enter the email text to check: \u001b[0m Hi John,  I hope you're doing well. I wanted to share a quick update on the project. We’ve completed the initial phase, and now it’s time to start the next steps. Please find the timeline and tasks attached.  Let me know if you have any questions or need further details.  Best regards,   Sarah\n"
     ]
    },
    {
     "name": "stdout",
     "output_type": "stream",
     "text": [
      "\u001b[1m\u001b[32m\n",
      "✅ Provided Email is Not Spam!\u001b[0m\n",
      "\u001b[32mYour inbox is safe! 😊\u001b[0m\n",
      "\n",
      "Thank you for using the Spam Detector! 🚀 😊\n"
     ]
    },
    {
     "name": "stdin",
     "output_type": "stream",
     "text": [
      "\u001b[33m\n",
      "Do you want to check another email? (y/n): \u001b[0m y\n"
     ]
    },
    {
     "name": "stdout",
     "output_type": "stream",
     "text": [
      "\u001b[1m\u001b[36m                                                       Spam or Not Spam Detector 🌟\u001b[0m\n",
      "\u001b[35m                                                   ====================================\u001b[0m\n"
     ]
    },
    {
     "name": "stdin",
     "output_type": "stream",
     "text": [
      "\u001b[33m\n",
      "Enter the email text to check: \u001b[0m Congratulations! You’ve just been selected to receive an exclusive offer to make thousands of dollars from home. All you need to do is sign up now to unlock your full potential!  Hurry! This offer is only available for a limited time. Click the link below to get started: [Spam Link]  Don’t miss out on this life-changing opportunity!  Best regards,   Your Future Wealth\n"
     ]
    },
    {
     "name": "stdout",
     "output_type": "stream",
     "text": [
      "\u001b[1m\u001b[31m\n",
      "🚨 Provided Email is Spam! 🚨\u001b[0m\n",
      "\u001b[31mWe detected potentially harmful content! ⚠️\u001b[0m\n",
      "\n",
      "Thank you for using the Spam Detector! 🚀 😊\n"
     ]
    },
    {
     "name": "stdin",
     "output_type": "stream",
     "text": [
      "\u001b[33m\n",
      "Do you want to check another email? (y/n): \u001b[0m y\n"
     ]
    },
    {
     "name": "stdout",
     "output_type": "stream",
     "text": [
      "\u001b[1m\u001b[36m                                                       Spam or Not Spam Detector 🌟\u001b[0m\n",
      "\u001b[35m                                                   ====================================\u001b[0m\n"
     ]
    },
    {
     "name": "stdin",
     "output_type": "stream",
     "text": [
      "\u001b[33m\n",
      "Enter the email text to check: \u001b[0m Hi John,  I hope you're doing well. I wanted to share a quick update on the project. We’ve completed the initial phase, and now it’s time to start the next steps. Please find the timeline and tasks attached.  Let me know if you have any questions or need further details.  Best regards,   Sarah\n"
     ]
    },
    {
     "name": "stdout",
     "output_type": "stream",
     "text": [
      "\u001b[1m\u001b[32m\n",
      "✅ Provided Email is Not Spam!\u001b[0m\n",
      "\u001b[32mYour inbox is safe! 😊\u001b[0m\n",
      "\n",
      "Thank you for using the Spam Detector! 🚀 😊\n"
     ]
    },
    {
     "name": "stdin",
     "output_type": "stream",
     "text": [
      "\u001b[33m\n",
      "Do you want to check another email? (y/n): \u001b[0m y\n"
     ]
    },
    {
     "name": "stdout",
     "output_type": "stream",
     "text": [
      "\u001b[1m\u001b[36m                                                       Spam or Not Spam Detector 🌟\u001b[0m\n",
      "\u001b[35m                                                   ====================================\u001b[0m\n"
     ]
    },
    {
     "name": "stdin",
     "output_type": "stream",
     "text": [
      "\u001b[33m\n",
      "Enter the email text to check: \u001b[0m Congratulations! You’ve just been selected to receive an exclusive offer to make thousands of dollars from home. All you need to do is sign up now to unlock your full potential!  Hurry! This offer is only available for a limited time. Click the link below to get started: [Spam Link]  Don’t miss out on this life-changing opportunity!  Best regards,   Your Future Wealth\n"
     ]
    },
    {
     "name": "stdout",
     "output_type": "stream",
     "text": [
      "\u001b[1m\u001b[31m\n",
      "🚨 Provided Email is Spam! 🚨\u001b[0m\n",
      "\u001b[31mWe detected potentially harmful content! ⚠️\u001b[0m\n",
      "\n",
      "Thank you for using the Spam Detector! 🚀 😊\n"
     ]
    },
    {
     "name": "stdin",
     "output_type": "stream",
     "text": [
      "\u001b[33m\n",
      "Do you want to check another email? (y/n): \u001b[0m y\n"
     ]
    },
    {
     "name": "stdout",
     "output_type": "stream",
     "text": [
      "\u001b[1m\u001b[36m                                                       Spam or Not Spam Detector 🌟\u001b[0m\n",
      "\u001b[35m                                                   ====================================\u001b[0m\n"
     ]
    },
    {
     "name": "stdin",
     "output_type": "stream",
     "text": [
      "\u001b[33m\n",
      "Enter the email text to check: \u001b[0m Dear Team,  Just a reminder about our meeting scheduled for tomorrow at 2 PM. We’ll be discussing the progress on the current project and the upcoming milestones.  Please make sure to have your updates ready.  Best regards,   Tom\n"
     ]
    },
    {
     "name": "stdout",
     "output_type": "stream",
     "text": [
      "\u001b[1m\u001b[32m\n",
      "✅ Provided Email is Not Spam!\u001b[0m\n",
      "\u001b[32mYour inbox is safe! 😊\u001b[0m\n",
      "\n",
      "Thank you for using the Spam Detector! 🚀 😊\n"
     ]
    },
    {
     "name": "stdin",
     "output_type": "stream",
     "text": [
      "\u001b[33m\n",
      "Do you want to check another email? (y/n): \u001b[0m y\n"
     ]
    },
    {
     "name": "stdout",
     "output_type": "stream",
     "text": [
      "\u001b[1m\u001b[36m                                                       Spam or Not Spam Detector 🌟\u001b[0m\n",
      "\u001b[35m                                                   ====================================\u001b[0m\n"
     ]
    },
    {
     "name": "stdin",
     "output_type": "stream",
     "text": [
      "\u001b[33m\n",
      "Enter the email text to check: \u001b[0m You’ve been selected to win a brand new iPhone! All you need to do is confirm your shipping details, and we’ll send it to you right away. Don’t wait – this is a limited-time offer!  Click here to claim your prize: [Spam Link]  Best regards,   iPhone Giveaway Team\n"
     ]
    },
    {
     "name": "stdout",
     "output_type": "stream",
     "text": [
      "\u001b[1m\u001b[32m\n",
      "✅ Provided Email is Not Spam!\u001b[0m\n",
      "\u001b[32mYour inbox is safe! 😊\u001b[0m\n",
      "\n",
      "Thank you for using the Spam Detector! 🚀 😊\n"
     ]
    },
    {
     "name": "stdin",
     "output_type": "stream",
     "text": [
      "\u001b[33m\n",
      "Do you want to check another email? (y/n): \u001b[0m y\n"
     ]
    },
    {
     "name": "stdout",
     "output_type": "stream",
     "text": [
      "\u001b[1m\u001b[36m                                                       Spam or Not Spam Detector 🌟\u001b[0m\n",
      "\u001b[35m                                                   ====================================\u001b[0m\n"
     ]
    },
    {
     "name": "stdin",
     "output_type": "stream",
     "text": [
      "\u001b[33m\n",
      "Enter the email text to check: \u001b[0m Hello,  Please find attached the invoice for the services rendered during the month of December. The total amount due is $500. Kindly make the payment by the 15th of January to avoid any late fees.  Let me know if you have any questions or require further information.  Thank you,   Jane Doe   Accounting Department\n"
     ]
    },
    {
     "name": "stdout",
     "output_type": "stream",
     "text": [
      "\u001b[1m\u001b[32m\n",
      "✅ Provided Email is Not Spam!\u001b[0m\n",
      "\u001b[32mYour inbox is safe! 😊\u001b[0m\n",
      "\n",
      "Thank you for using the Spam Detector! 🚀 😊\n"
     ]
    },
    {
     "name": "stdin",
     "output_type": "stream",
     "text": [
      "\u001b[33m\n",
      "Do you want to check another email? (y/n): \u001b[0m y\n"
     ]
    },
    {
     "name": "stdout",
     "output_type": "stream",
     "text": [
      "\u001b[1m\u001b[36m                                                       Spam or Not Spam Detector 🌟\u001b[0m\n",
      "\u001b[35m                                                   ====================================\u001b[0m\n"
     ]
    },
    {
     "name": "stdin",
     "output_type": "stream",
     "text": [
      "\u001b[33m\n",
      "Enter the email text to check: \u001b[0m Congratulations! You’ve won a free vacation package to a tropical destination. All you need to do is click the link below and enter your personal details to claim your prize.  Hurry! This offer expires soon. Don’t miss your chance for a free getaway!  Click here to claim your prize: [Spam Link]  Best regards,   Vacation Giveaway Team\n"
     ]
    },
    {
     "name": "stdout",
     "output_type": "stream",
     "text": [
      "\u001b[1m\u001b[31m\n",
      "🚨 Provided Email is Spam! 🚨\u001b[0m\n",
      "\u001b[31mWe detected potentially harmful content! ⚠️\u001b[0m\n",
      "\n",
      "Thank you for using the Spam Detector! 🚀 😊\n"
     ]
    },
    {
     "name": "stdin",
     "output_type": "stream",
     "text": [
      "\u001b[33m\n",
      "Do you want to check another email? (y/n): \u001b[0m y\n"
     ]
    },
    {
     "name": "stdout",
     "output_type": "stream",
     "text": [
      "\u001b[1m\u001b[36m                                                       Spam or Not Spam Detector 🌟\u001b[0m\n",
      "\u001b[35m                                                   ====================================\u001b[0m\n"
     ]
    },
    {
     "name": "stdin",
     "output_type": "stream",
     "text": [
      "\u001b[33m\n",
      "Enter the email text to check: \u001b[0m Dear User,  We have detected suspicious activity in your account. If you do not take immediate action, your account may be permanently suspended. To secure your account, click the link below and confirm your identity.  Failure to act within the next 24 hours will result in a temporary lock on your account.  Secure your account here: [Spam Link]  Best regards,   Customer Support Team\n"
     ]
    },
    {
     "name": "stdout",
     "output_type": "stream",
     "text": [
      "\u001b[1m\u001b[32m\n",
      "✅ Provided Email is Not Spam!\u001b[0m\n",
      "\u001b[32mYour inbox is safe! 😊\u001b[0m\n",
      "\n",
      "Thank you for using the Spam Detector! 🚀 😊\n"
     ]
    },
    {
     "name": "stdin",
     "output_type": "stream",
     "text": [
      "\u001b[33m\n",
      "Do you want to check another email? (y/n): \u001b[0m y\n"
     ]
    },
    {
     "name": "stdout",
     "output_type": "stream",
     "text": [
      "\u001b[1m\u001b[36m                                                       Spam or Not Spam Detector 🌟\u001b[0m\n",
      "\u001b[35m                                                   ====================================\u001b[0m\n"
     ]
    },
    {
     "name": "stdin",
     "output_type": "stream",
     "text": [
      "\u001b[33m\n",
      "Enter the email text to check: \u001b[0m Looking to earn money from home? Join our online program today and start making $500 per week with no experience required. The process is simple, and we provide all the tools and training you need.  Sign up now to get started: [Spam Link]  Best regards,   Work From Home Opportunities\n"
     ]
    },
    {
     "name": "stdout",
     "output_type": "stream",
     "text": [
      "\u001b[1m\u001b[32m\n",
      "✅ Provided Email is Not Spam!\u001b[0m\n",
      "\u001b[32mYour inbox is safe! 😊\u001b[0m\n",
      "\n",
      "Thank you for using the Spam Detector! 🚀 😊\n"
     ]
    },
    {
     "name": "stdin",
     "output_type": "stream",
     "text": [
      "\u001b[33m\n",
      "Do you want to check another email? (y/n): \u001b[0m n\n"
     ]
    },
    {
     "name": "stdout",
     "output_type": "stream",
     "text": [
      "\u001b[36m\n",
      "Exiting the Spam Detector. Goodbye! 👋\u001b[0m\n"
     ]
    }
   ],
   "source": [
    "import torch\n",
    "import string\n",
    "import numpy as np\n",
    "from sklearn.preprocessing import LabelEncoder\n",
    "from termcolor import colored\n",
    "import emoji\n",
    "\n",
    "while True:\n",
    "    print(colored(\"                                                       Spam or Not Spam Detector 🌟\", 'cyan', attrs=['bold']))\n",
    "    print(colored(\"                                                   ====================================\", 'magenta'))\n",
    "\n",
    "    # Get user input (email text)\n",
    "    message = input(colored(\"\\nEnter the email text to check: \", 'yellow'))\n",
    "\n",
    "    # Preprocess the message\n",
    "    message = message.lower().translate(str.maketrans('', '', string.punctuation)).split()\n",
    "    message = [stemmer.stem(word) for word in message if word not in sp_words]\n",
    "    message = ' '.join(message)\n",
    "\n",
    "    # Transform the message into the same format as your training data\n",
    "    message = [message]\n",
    "    X_message = vectorizer.transform(message)\n",
    "\n",
    "    # Convert the sparse matrix to a dense matrix and then to a PyTorch tensor\n",
    "    X_message = torch.tensor(X_message.toarray(), dtype=torch.float).to(device)\n",
    "\n",
    "    # Set the model to evaluation mode\n",
    "    model.eval()\n",
    "    with torch.no_grad():\n",
    "        # Make predictions\n",
    "        y_test_pred = model(X_message).squeeze()\n",
    "        y_test_pred = (y_test_pred >= 0.5).float()  # Convert probabilities to binary predictions\n",
    "\n",
    "    # Decorative Output based on Prediction\n",
    "    if y_test_pred.item() == 0:  # .item() converts tensor to a Python scalar\n",
    "        print(colored(\"\\n🚨 Provided Email is Spam! 🚨\", 'red', attrs=['bold']))\n",
    "        print(colored(\"We detected potentially harmful content! ⚠️\", 'red'))\n",
    "    else:\n",
    "        print(colored(\"\\n✅ Provided Email is Not Spam!\", 'green', attrs=['bold']))\n",
    "        print(colored(\"Your inbox is safe! 😊\", 'green'))\n",
    "\n",
    "    # Additional Fun Emojis for Enhanced User Experience\n",
    "    print(\"\\nThank you for using the Spam Detector! 🚀 😊\")\n",
    "\n",
    "    # Ask user if they want to continue or exit\n",
    "    user_choice = input(colored(\"\\nDo you want to check another email? (y/n): \", 'yellow')).lower()\n",
    "    if user_choice != 'y':\n",
    "        print(colored(\"\\nExiting the Spam Detector. Goodbye! 👋\", 'cyan'))\n",
    "        break\n"
   ]
  },
  {
   "cell_type": "code",
   "execution_count": null,
   "id": "f8d5246f-045e-4f8f-aec8-ada6485b9fe2",
   "metadata": {},
   "outputs": [],
   "source": []
  }
 ],
 "metadata": {
  "kernelspec": {
   "display_name": "Python 3 (ipykernel)",
   "language": "python",
   "name": "python3"
  },
  "language_info": {
   "codemirror_mode": {
    "name": "ipython",
    "version": 3
   },
   "file_extension": ".py",
   "mimetype": "text/x-python",
   "name": "python",
   "nbconvert_exporter": "python",
   "pygments_lexer": "ipython3",
   "version": "3.10.10"
  }
 },
 "nbformat": 4,
 "nbformat_minor": 5
}
