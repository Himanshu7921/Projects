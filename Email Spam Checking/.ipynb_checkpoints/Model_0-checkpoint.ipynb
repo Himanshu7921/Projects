{
 "cells": [
  {
   "cell_type": "markdown",
   "id": "80838a4b-3218-4abd-ac83-4b670d0bf49b",
   "metadata": {},
   "source": [
    "## This Model is Trained for Predicting wheather a Mail is a Spam or Not Spam\n"
   ]
  },
  {
   "cell_type": "code",
   "execution_count": 1,
   "id": "ec4a23dc-3719-4135-9b4a-5f38e8ca8e78",
   "metadata": {},
   "outputs": [],
   "source": [
    "# This project uses NLTK (Natural Language Toolkit) for text processing.\n",
    "# Reference: Bird, Steven, Edward Loper, and Ewan Klein (2009), Natural Language Processing with Python. O'Reilly Media Inc."
   ]
  },
  {
   "cell_type": "code",
   "execution_count": 2,
   "id": "c14dccf2-4a01-44dd-9563-0e7674843c92",
   "metadata": {},
   "outputs": [],
   "source": [
    "# Import\n",
    "import pandas as pd\n",
    "import numpy as np\n",
    "import torch\n",
    "import torch. nn as nn\n",
    "from torchmetrics import Accuracy\n",
    "import matplotlib.pyplot as plt\n",
    "import nltk\n",
    "import re  # Importing the re module for regex\n",
    "import sklearn\n",
    "from sklearn.feature_extraction.text import TfidfVectorizer\n",
    "from nltk.corpus import stopwords\n",
    "from nltk.tokenize import word_tokenize\n",
    "from nltk.stem import WordNetLemmatizer\n",
    "from sklearn.model_selection import train_test_split\n",
    "import torch\n",
    "import torch.nn as nn\n",
    "import torchmetrics\n",
    "from torchmetrics import Accuracy\n",
    "import pickle\n",
    "from sklearn.metrics import classification_report, confusion_matrix\n",
    "from sklearn.metrics import precision_score, recall_score, f1_score\n",
    "from imblearn.over_sampling import RandomOverSampler\n",
    "from imblearn.over_sampling import SMOTE\n",
    "from sklearn.model_selection import train_test_split\n",
    "from sklearn.decomposition import PCA"
   ]
  },
  {
   "cell_type": "markdown",
   "id": "d948c344-81ef-4e8c-99c3-954a6a000ecc",
   "metadata": {},
   "source": [
    "#### Get the Data ready!\n",
    "1. Read the csv file\n",
    "2. Extract the data"
   ]
  },
  {
   "cell_type": "code",
   "execution_count": 3,
   "id": "860a9898-58ba-43ac-aba0-85a676c03b4f",
   "metadata": {},
   "outputs": [],
   "source": [
    "PATH = \"dataset.csv\"\n",
    "data = pd.read_csv(PATH, encoding='latin-1')\n",
    "data = data.where(pd.notnull(data), ' ')"
   ]
  },
  {
   "cell_type": "code",
   "execution_count": 4,
   "id": "538a29e6-5960-4c35-a801-90d3c105c1dd",
   "metadata": {},
   "outputs": [
    {
     "data": {
      "text/plain": [
       "5572"
      ]
     },
     "execution_count": 4,
     "metadata": {},
     "output_type": "execute_result"
    }
   ],
   "source": [
    "len(data)"
   ]
  },
  {
   "cell_type": "markdown",
   "id": "4d417784-4d18-4647-9e1e-7c417d7de76c",
   "metadata": {},
   "source": [
    "## Playing with Dataset"
   ]
  },
  {
   "cell_type": "code",
   "execution_count": 5,
   "id": "e8240e1b-dc5e-499c-a340-49c53b2f9be9",
   "metadata": {},
   "outputs": [
    {
     "name": "stderr",
     "output_type": "stream",
     "text": [
      "C:\\Users\\Himanshu Singh\\AppData\\Local\\Temp\\ipykernel_18368\\3433591134.py:3: FutureWarning: Downcasting behavior in `replace` is deprecated and will be removed in a future version. To retain the old behavior, explicitly call `result.infer_objects(copy=False)`. To opt-in to the future behavior, set `pd.set_option('future.no_silent_downcasting', True)`\n",
      "  data['Category'] = data['Category'].replace({'spam': 0, 'ham': 1})\n"
     ]
    },
    {
     "data": {
      "text/html": [
       "<div>\n",
       "<style scoped>\n",
       "    .dataframe tbody tr th:only-of-type {\n",
       "        vertical-align: middle;\n",
       "    }\n",
       "\n",
       "    .dataframe tbody tr th {\n",
       "        vertical-align: top;\n",
       "    }\n",
       "\n",
       "    .dataframe thead th {\n",
       "        text-align: right;\n",
       "    }\n",
       "</style>\n",
       "<table border=\"1\" class=\"dataframe\">\n",
       "  <thead>\n",
       "    <tr style=\"text-align: right;\">\n",
       "      <th></th>\n",
       "      <th>Category</th>\n",
       "      <th>Message</th>\n",
       "    </tr>\n",
       "  </thead>\n",
       "  <tbody>\n",
       "    <tr>\n",
       "      <th>0</th>\n",
       "      <td>1</td>\n",
       "      <td>Go until jurong point, crazy.. Available only ...</td>\n",
       "    </tr>\n",
       "    <tr>\n",
       "      <th>1</th>\n",
       "      <td>1</td>\n",
       "      <td>Ok lar... Joking wif u oni...</td>\n",
       "    </tr>\n",
       "    <tr>\n",
       "      <th>2</th>\n",
       "      <td>0</td>\n",
       "      <td>Free entry in 2 a wkly comp to win FA Cup fina...</td>\n",
       "    </tr>\n",
       "    <tr>\n",
       "      <th>3</th>\n",
       "      <td>1</td>\n",
       "      <td>U dun say so early hor... U c already then say...</td>\n",
       "    </tr>\n",
       "    <tr>\n",
       "      <th>4</th>\n",
       "      <td>1</td>\n",
       "      <td>Nah I don't think he goes to usf, he lives aro...</td>\n",
       "    </tr>\n",
       "  </tbody>\n",
       "</table>\n",
       "</div>"
      ],
      "text/plain": [
       "   Category                                            Message\n",
       "0         1  Go until jurong point, crazy.. Available only ...\n",
       "1         1                      Ok lar... Joking wif u oni...\n",
       "2         0  Free entry in 2 a wkly comp to win FA Cup fina...\n",
       "3         1  U dun say so early hor... U c already then say...\n",
       "4         1  Nah I don't think he goes to usf, he lives aro..."
      ]
     },
     "execution_count": 5,
     "metadata": {},
     "output_type": "execute_result"
    }
   ],
   "source": [
    "data.rename(columns={'v1': 'Category', 'v2': 'Message'}, inplace=True)\n",
    "data = data.iloc[:, :2] \n",
    "data['Category'] = data['Category'].replace({'spam': 0, 'ham': 1})\n",
    "data.head()"
   ]
  },
  {
   "cell_type": "code",
   "execution_count": 6,
   "id": "80d7b8b3-7ab7-46df-a135-7f9eaf41973c",
   "metadata": {},
   "outputs": [
    {
     "data": {
      "text/plain": [
       "(5572, 2)"
      ]
     },
     "execution_count": 6,
     "metadata": {},
     "output_type": "execute_result"
    }
   ],
   "source": [
    "data.shape"
   ]
  },
  {
   "cell_type": "code",
   "execution_count": 7,
   "id": "412bdefa-46f4-4f3b-b9e2-07d9b1af2201",
   "metadata": {},
   "outputs": [
    {
     "data": {
      "image/png": "[encoded data removed]",
      "text/plain": [
       "<Figure size 640x480 with 1 Axes>"
      ]
     },
     "metadata": {},
     "output_type": "display_data"
    }
   ],
   "source": [
    "data['Category'].hist()\n",
    "plt.title(\"Ham V/S Spam\")\n",
    "plt.show()"
   ]
  },
  {
   "cell_type": "code",
   "execution_count": 8,
   "id": "cc4b6471-86ea-4ca2-83e4-1ad9b68464b7",
   "metadata": {},
   "outputs": [
    {
     "name": "stdout",
     "output_type": "stream",
     "text": [
      "<class 'pandas.core.frame.DataFrame'>\n",
      "RangeIndex: 5572 entries, 0 to 5571\n",
      "Data columns (total 2 columns):\n",
      " #   Column    Non-Null Count  Dtype \n",
      "---  ------    --------------  ----- \n",
      " 0   Category  5572 non-null   int64 \n",
      " 1   Message   5572 non-null   object\n",
      "dtypes: int64(1), object(1)\n",
      "memory usage: 87.2+ KB\n"
     ]
    }
   ],
   "source": [
    "data.info()"
   ]
  },
  {
   "cell_type": "code",
   "execution_count": 9,
   "id": "bbb973a8-e2c2-4928-b7c3-d27a4214c041",
   "metadata": {},
   "outputs": [
    {
     "data": {
      "text/plain": [
       "((5572,), (5572,))"
      ]
     },
     "execution_count": 9,
     "metadata": {},
     "output_type": "execute_result"
    }
   ],
   "source": [
    "X = data['Message']\n",
    "Y = data['Category']\n",
    "X.shape, Y.shape"
   ]
  },
  {
   "cell_type": "markdown",
   "id": "73b7eb16-5523-4cf9-8f60-ffcbd412a189",
   "metadata": {},
   "source": [
    "## Splitting the Data into Training and Testing"
   ]
  },
  {
   "cell_type": "code",
   "execution_count": 10,
   "id": "007f4324-1a25-4170-b86a-6e8715871d06",
   "metadata": {},
   "outputs": [
    {
     "data": {
      "text/plain": [
       "(4457, 1115, 4457, 1115)"
      ]
     },
     "execution_count": 10,
     "metadata": {},
     "output_type": "execute_result"
    }
   ],
   "source": [
    "X_train, X_test, Y_train, Y_test = train_test_split(X, Y, test_size = 0.2, random_state = 42, shuffle = True)\n",
    "len(X_train), len(X_test), len(Y_train), len(Y_test)"
   ]
  },
  {
   "cell_type": "code",
   "execution_count": 11,
   "id": "0f5bfbdf-98e7-4528-bdac-e97d2c104466",
   "metadata": {},
   "outputs": [
    {
     "data": {
      "text/plain": [
       "1978    No I'm in the same boat. Still here at my moms...\n",
       "3989    (Bank of Granite issues Strong-Buy) EXPLOSIVE ...\n",
       "3935       They r giving a second chance to rahul dengra.\n",
       "4078       O i played smash bros  &lt;#&gt;  religiously.\n",
       "4086    PRIVATE! Your 2003 Account Statement for 07973...\n",
       "                              ...                        \n",
       "3772    I came hostel. I m going to sleep. Plz call me...\n",
       "5191                               Sorry, I'll call later\n",
       "5226        Prabha..i'm soryda..realy..frm heart i'm sory\n",
       "5390                           Nt joking seriously i told\n",
       "860                   In work now. Going have in few min.\n",
       "Name: Message, Length: 4457, dtype: object"
      ]
     },
     "execution_count": 11,
     "metadata": {},
     "output_type": "execute_result"
    }
   ],
   "source": [
    "X_train"
   ]
  },
  {
   "cell_type": "markdown",
   "id": "269b4ed8-bcc7-420f-bae0-e960fbcf5ad5",
   "metadata": {},
   "source": [
    "## Data Preprocessing:\n",
    "\n",
    "### Text Cleaning: with `NLTK`\n",
    "\n",
    "For More Information, [Visit NLTK](https://www.nltk.org/)\n",
    "\n",
    "For spam detection, the text data (e.g., email body or message) must be cleaned and transformed into a format that a machine learning model can work with.\n"
   ]
  },
  {
   "cell_type": "code",
   "execution_count": 12,
   "id": "1bb58ed7-c2b5-46c7-b564-86e99116a58d",
   "metadata": {},
   "outputs": [
    {
     "data": {
      "text/plain": [
       "'cuda'"
      ]
     },
     "execution_count": 12,
     "metadata": {},
     "output_type": "execute_result"
    }
   ],
   "source": [
    "device = 'cuda' if torch.cuda.is_available() else 'CPU'\n",
    "device"
   ]
  },
  {
   "cell_type": "code",
   "execution_count": 13,
   "id": "8eee55ee-9347-4e02-b8c1-e8711e16741c",
   "metadata": {},
   "outputs": [],
   "source": [
    "X_train = X_train.astype(str)\n",
    "X_test = X_test.astype(str)\n",
    "\n",
    "# Initialize the vectorizer\n",
    "vectorizer = TfidfVectorizer(min_df=1, stop_words='english', lowercase=True)\n",
    "\n",
    "# Fit and transform the training data\n",
    "X_train_features = vectorizer.fit_transform(X_train)\n",
    "\n",
    "# Transform the test data using the already fitted vectorizer (no fitting, only transformation)\n",
    "X_test_features = vectorizer.transform(X_test)\n",
    "\n",
    "# Ensure the target variables are integers\n",
    "Y_train = Y_train.astype('int')\n",
    "Y_test = Y_test.astype('int')\n",
    "\n",
    "# Apply SMOTE to balance the training data\n",
    "smote = SMOTE(random_state=42)\n",
    "X_train_resampled, Y_train_resampled = smote.fit_resample(X_train_features, Y_train)\n",
    "\n",
    "# Convert sparse matrix to dense (NumPy array) before converting to PyTorch tensor\n",
    "X_train_resampled_dense = X_train_resampled.toarray()  # Converts sparse matrix to dense\n",
    "X_train_resampled_tensor = torch.tensor(X_train_resampled_dense, dtype=torch.float32)\n",
    "Y_train_resampled_tensor = torch.tensor(Y_train_resampled, dtype=torch.float32)\n",
    "\n",
    "# PCA Analysis\n",
    "pca = PCA(0.80)\n",
    "X_train_resampled_tensor = pca.fit_transform(X_train_resampled_tensor)\n",
    "\n",
    "# Convert test data to tensors (no resampling here)\n",
    "X_test_tensor = torch.tensor(X_test_features.toarray()).type(torch.float).to(device)\n",
    "Y_test_tensor = torch.tensor(Y_test.values, dtype=torch.float).to(device)\n",
    "\n",
    "\n",
    "# Save the vectorizer to a file for later use\n",
    "with open('tfidf_vectorizer.pkl', 'wb') as f:\n",
    "    pickle.dump(vectorizer, f)"
   ]
  },
  {
   "cell_type": "markdown",
   "id": "7a3ea876-c2dc-41b2-b51d-7f453039e390",
   "metadata": {},
   "source": [
    "## Device Agnostic code"
   ]
  },
  {
   "cell_type": "markdown",
   "id": "18afb677-2eaf-4619-b739-43010c582c8f",
   "metadata": {},
   "source": [
    "## Transforming into Tensors and sending it to GPU (Cuda)"
   ]
  },
  {
   "cell_type": "code",
   "execution_count": 14,
   "id": "c0e71147-6e10-4de9-b474-5196e449cecf",
   "metadata": {},
   "outputs": [
    {
     "data": {
      "text/plain": [
       "(numpy.ndarray, (7720, 976))"
      ]
     },
     "execution_count": 14,
     "metadata": {},
     "output_type": "execute_result"
    }
   ],
   "source": [
    "type(X_train_resampled_tensor), X_train_resampled_tensor.shape"
   ]
  },
  {
   "cell_type": "markdown",
   "id": "0786b2d5-ee0d-4418-8ed8-6ff54fa74517",
   "metadata": {},
   "source": [
    "## Building a Model\n"
   ]
  },
  {
   "cell_type": "code",
   "execution_count": 15,
   "id": "f7d3465e-2514-4ca4-89c6-a4e2bafbcc24",
   "metadata": {},
   "outputs": [],
   "source": [
    "class MyModel(nn.Module):\n",
    "    def __init__(self):\n",
    "        super().__init__()\n",
    "        self.model = nn.Sequential(\n",
    "            nn.Linear(7472, 1024),\n",
    "            nn.ReLU(),\n",
    "            nn.Dropout(0.8),  \n",
    "            nn.Linear(1024, 512),\n",
    "            nn.ReLU(),\n",
    "            nn.Dropout(0.8),  \n",
    "            nn.Linear(512, 1)\n",
    "        )\n",
    "    def forward(self, X):\n",
    "        return self.model(X)\n",
    "\n",
    "# Initialize the model\n",
    "torch.manual_seed(42)\n",
    "model = MyModel().to(device)"
   ]
  },
  {
   "cell_type": "markdown",
   "id": "3fadfa81-f6e7-4053-94c2-3a3dfec4eea9",
   "metadata": {},
   "source": [
    "## Loss function and Optimizer setup"
   ]
  },
  {
   "cell_type": "code",
   "execution_count": 16,
   "id": "ceea656e-13ad-4c84-854b-d7406398118b",
   "metadata": {},
   "outputs": [],
   "source": [
    "class_counts = torch.bincount(Y_train_resampled_tensor.long())\n",
    "total_samples = len(Y_train_resampled_tensor)\n",
    "class_weights = total_samples / (len(class_counts) * class_counts.float())  # Normalized weights\n",
    "loss_fn = nn.BCEWithLogitsLoss(pos_weight=class_weights[1].to(device))  # Correct weight for positive class\n",
    "\n",
    "loss_fn = nn.BCEWithLogitsLoss(pos_weight=class_weights[1])\n",
    "optimizer = torch.optim.Adam(model.parameters(), lr=0.00001, weight_decay=1e-5)"
   ]
  },
  {
   "cell_type": "code",
   "execution_count": 17,
   "id": "a168b71b-666f-47e6-9020-fb109ca3c628",
   "metadata": {},
   "outputs": [],
   "source": [
    "# y_train_logits = model(X_train_features_tensor) # One forward pass for testing our model's layer and input and output matrix\n",
    "# torch.sigmoid(y_train_logits).round()"
   ]
  },
  {
   "cell_type": "markdown",
   "id": "8a672608-cd3b-49e0-a86c-a6c9570e4fa4",
   "metadata": {},
   "source": [
    "## Training and Testing loop"
   ]
  },
  {
   "cell_type": "code",
   "execution_count": 18,
   "id": "1fe052af-f4ca-4509-9a69-1ca69499e7e2",
   "metadata": {},
   "outputs": [],
   "source": [
    "# Training\n",
    "# X_train_features_tensor = torch.tensor(X_train_features.toarray()).to(device)\n",
    "# Y_train_tensor = torch.tensor(Y_train.values, dtype=torch.int).to(device)\n",
    "\n",
    "# Testing\n",
    "# X_test_features_tensor = torch.tensor(X_test_features.toarray()).to(device)\n",
    "# Y_test_tensor = torch.tensor(Y_test.values, dtype=torch.int).to(device)"
   ]
  },
  {
   "cell_type": "code",
   "execution_count": 19,
   "id": "a0d6cc13-e85c-4f79-b4f3-77aa1a9c4aa2",
   "metadata": {},
   "outputs": [],
   "source": [
    "acc = Accuracy(task=\"multiclass\", num_classes=2).to(device)"
   ]
  },
  {
   "cell_type": "code",
   "execution_count": 20,
   "id": "5b2c6049-3e2f-4ecc-9851-706224a052ad",
   "metadata": {},
   "outputs": [],
   "source": [
    "X_train_resampled_tensor = torch.tensor(X_train_resampled.toarray()).type(torch.float).to(device)\n",
    "Y_train_resampled_tensor = torch.tensor(Y_train_resampled, dtype=torch.float).to(device)"
   ]
  },
  {
   "cell_type": "code",
   "execution_count": 21,
   "id": "b2919f9b-19f2-4006-b6e1-d9501dae71d8",
   "metadata": {},
   "outputs": [
    {
     "name": "stdout",
     "output_type": "stream",
     "text": [
      "Epoch : 0 | Train Acc: 0.5054 | Train Loss: 0.6933 | Test Acc: 0.1345 | Test Loss: 0.6980\n",
      "Early stopping at epoch 5\n"
     ]
    }
   ],
   "source": [
    "epochs = 2000\n",
    "best_test_acc = 0.0\n",
    "patience = 5\n",
    "epochs_without_improvement = 0\n",
    "\n",
    "for epoch in range(epochs):\n",
    "    # 1. Training\n",
    "    model.train()\n",
    "    # forward pass\n",
    "    y_train_logits = model(X_train_resampled_tensor).squeeze()\n",
    "    y_train = torch.sigmoid(y_train_logits).round()\n",
    "    # calculate loss and accuracy\n",
    "    train_loss = loss_fn(y_train_logits, Y_train_resampled_tensor)\n",
    "    train_acc = acc(y_train, Y_train_resampled_tensor)\n",
    "    # zero grad\n",
    "    optimizer.zero_grad()\n",
    "    # loss backward (backward pass)\n",
    "    train_loss.backward()\n",
    "    # perform Descent Gradient\n",
    "    optimizer.step()\n",
    "\n",
    "    # 2. Testing Loop\n",
    "    model.eval()\n",
    "    with torch.inference_mode():\n",
    "        # forward pass\n",
    "        y_test_logits = model(X_test_tensor).squeeze()\n",
    "        y_test = torch.sigmoid(y_test_logits).round()\n",
    "\n",
    "        # calculate loss and accuracy\n",
    "        test_loss = loss_fn(y_test_logits, Y_test_tensor)\n",
    "        test_acc = acc(y_test, Y_test_tensor)\n",
    "\n",
    "        # Early stopping check\n",
    "        if test_acc > best_test_acc:\n",
    "            best_test_acc = test_acc\n",
    "            epochs_without_improvement = 0\n",
    "        else:\n",
    "            epochs_without_improvement += 1\n",
    "\n",
    "        # Early stopping condition\n",
    "        if epochs_without_improvement >= patience:\n",
    "            print(f\"Early stopping at epoch {epoch}\")\n",
    "            break\n",
    "\n",
    "    # Print epoch details every 500 epochs\n",
    "    if epoch % 500 == 0:\n",
    "        print(f\"Epoch : {epoch} | Train Acc: {train_acc:.4f} | Train Loss: {train_loss:.4f} | Test Acc: {test_acc:.4f} | Test Loss: {test_loss:.4f}\")\n"
   ]
  },
  {
   "cell_type": "code",
   "execution_count": 22,
   "id": "5007bb10-0610-4516-ade9-560f3d60f379",
   "metadata": {},
   "outputs": [
    {
     "data": {
      "image/png": "[encoded data removed]",
      "text/plain": [
       "<Figure size 600x500 with 2 Axes>"
      ]
     },
     "metadata": {},
     "output_type": "display_data"
    }
   ],
   "source": [
    "import seaborn as sns\n",
    "import matplotlib.pyplot as plt\n",
    "from sklearn.metrics import confusion_matrix\n",
    "\n",
    "# Assuming y_test and y_pred are the true and predicted labels\n",
    "y_test_cpu = y_test.cpu().numpy()  # Move tensor to CPU and then convert to NumPy array\n",
    "Y_test_cpu = Y_test_tensor.cpu().numpy()\n",
    "\n",
    "conf_matrix = confusion_matrix(Y_test_cpu, y_test_cpu)\n",
    "\n",
    "plt.figure(figsize=(6, 5))\n",
    "sns.heatmap(conf_matrix, annot=True, fmt='d', cmap='Blues', xticklabels=['Pred: 0', 'Pred: 1'], yticklabels=['True: 0', 'True: 1'])\n",
    "plt.ylabel('True label')\n",
    "plt.xlabel('Predicted label')\n",
    "plt.title('Confusion Matrix')\n",
    "plt.show()"
   ]
  },
  {
   "cell_type": "code",
   "execution_count": 23,
   "id": "4906c566-ed3f-47ee-8587-13974e88e409",
   "metadata": {},
   "outputs": [
    {
     "name": "stdout",
     "output_type": "stream",
     "text": [
      "Predicted Labels: [0. 0. 0. 0. 0. 0. 0. 0. 0. 0. 0. 0. 0. 0. 0. 0. 0. 0. 0. 0. 0. 0. 0. 0.\n",
      " 0. 0. 0. 0. 0. 0. 0. 0. 0. 0. 0. 0. 0. 0. 0. 0. 0. 0. 0. 0. 0. 0. 0. 0.\n",
      " 0. 0.] \n",
      "Actual Labels: [1. 1. 0. 1. 0. 1. 1. 1. 1. 1. 1. 0. 1. 1. 1. 1. 1. 0. 1. 1. 1. 1. 1. 1.\n",
      " 0. 1. 1. 1. 1. 1. 1. 1. 0. 1. 1. 1. 1. 1. 1. 1. 1. 1. 0. 1. 1. 1. 1. 1.\n",
      " 1. 1.]\n"
     ]
    },
    {
     "data": {
      "text/plain": [
       "array([False, False,  True, ..., False, False,  True])"
      ]
     },
     "execution_count": 23,
     "metadata": {},
     "output_type": "execute_result"
    }
   ],
   "source": [
    "print(f\"Predicted Labels: {y_test_cpu[:50]} \\nActual Labels: {Y_test_cpu[:50]}\")\n",
    "y_test_cpu == Y_test_cpu"
   ]
  },
  {
   "cell_type": "code",
   "execution_count": 24,
   "id": "10303173-3c6c-4ad9-8e01-eb38650e90c8",
   "metadata": {},
   "outputs": [],
   "source": [
    "import nltk\n",
    "import re  # Importing the re module for regex\n",
    "import sklearn\n",
    "from sklearn.feature_extraction.text import TfidfVectorizer\n",
    "from nltk.corpus import stopwords\n",
    "from nltk.tokenize import word_tokenize\n",
    "from nltk.stem import WordNetLemmatizer\n",
    "\n",
    "# Load stopwords from nltk\n",
    "stop_words = set(stopwords.words('english'))\n",
    "\n",
    "def convert_into_vector(data):\n",
    "    \"\"\"Applies tokenization, stopword removal, lemmatization, and regex-based text cleaning.\"\"\"\n",
    "    \n",
    "    # 1. Preprocessing: Remove non-alphabetic characters using re.sub\n",
    "    cleaned_data = re.sub(r'[^a-zA-Z\\s]', '', data)  # Keep only alphabetic characters and spaces\n",
    "    print(f\"Cleaned Data: {cleaned_data}\")\n",
    "\n",
    "    # 2. Tokenize: Convert the text into lowercase and split into words\n",
    "    tokenize_data = word_tokenize(cleaned_data.lower())\n",
    "    print(f\"Tokenized Data: {tokenize_data}\")\n",
    "\n",
    "    # 3. Remove stopwords\n",
    "    removed_stop_words = [word for word in tokenize_data if word not in stop_words]\n",
    "    print(f\"Without Stopwords: {removed_stop_words}\")\n",
    "\n",
    "    # 4. Lemmatization: Reduce words to their base form using WordNetLemmatizer\n",
    "    lemmatizer = WordNetLemmatizer()\n",
    "    lemmatized_data = [lemmatizer.lemmatize(word) for word in removed_stop_words]\n",
    "    print(f\"Lemmatized Data: {lemmatized_data}\")\n",
    "    \n",
    "    # 5. Join the lemmatized data back into a single string for vectorization\n",
    "    joined_lemmatized_data = ' '.join(lemmatized_data)\n",
    "\n",
    "    # # 6. Vectorization (TF-IDF): Uncomment if you need to perform vectorization\n",
    "    # vectorizer = TfidfVectorizer()\n",
    "    # X = vectorizer.fit_transform([joined_lemmatized_data])  # Pass a list of documents \n",
    "\n",
    "    # return X\n",
    "    return joined_lemmatized_data"
   ]
  },
  {
   "cell_type": "code",
   "execution_count": 25,
   "id": "c5fa8c10-5ec9-4017-995a-5e78fc5267d4",
   "metadata": {},
   "outputs": [
    {
     "name": "stdout",
     "output_type": "stream",
     "text": [
      "Spam or Not Spam detector\n"
     ]
    },
    {
     "name": "stdin",
     "output_type": "stream",
     "text": [
      "Enter Email:  34\n"
     ]
    },
    {
     "name": "stdout",
     "output_type": "stream",
     "text": [
      "Checking whether the provided email is Spam or Not Spam...\n",
      "Provided Email is Not Spam\n"
     ]
    }
   ],
   "source": [
    "# Load the saved TfidfVectorizer\n",
    "with open('tfidf_vectorizer.pkl', 'rb') as f:\n",
    "    vectorizer = pickle.load(f)\n",
    "\n",
    "print(\"Spam or Not Spam detector\")\n",
    "\n",
    "# Get user input (email text)\n",
    "message = input(\"Enter Email: \")\n",
    "\n",
    "# Pre-process the message using the loaded vectorizer\n",
    "message_vector = vectorizer.transform([message]).toarray()\n",
    "\n",
    "# Convert the message vector to a PyTorch tensor\n",
    "message_tensor = torch.tensor(message_vector, dtype=torch.float32).to(device)\n",
    "\n",
    "# Make the prediction\n",
    "print(\"Checking whether the provided email is Spam or Not Spam...\")\n",
    "model.eval()\n",
    "with torch.no_grad():  # Inference mode (no gradients needed)\n",
    "    y_logits = torch.softmax(model(message_tensor), dim=-1).round()\n",
    "\n",
    "# Interpret the model output\n",
    "if y_logits == 0:\n",
    "    print(\"Provided Email is Spam!\")\n",
    "else:\n",
    "    print(\"Provided Email is Not Spam\")\n"
   ]
  },
  {
   "cell_type": "code",
   "execution_count": null,
   "id": "e305fefa-47da-4eab-8ac7-fc7ba9bc1110",
   "metadata": {},
   "outputs": [],
   "source": []
  }
 ],
 "metadata": {
  "kernelspec": {
   "display_name": "Python 3 (ipykernel)",
   "language": "python",
   "name": "python3"
  },
  "language_info": {
   "codemirror_mode": {
    "name": "ipython",
    "version": 3
   },
   "file_extension": ".py",
   "mimetype": "text/x-python",
   "name": "python",
   "nbconvert_exporter": "python",
   "pygments_lexer": "ipython3",
   "version": "3.10.10"
  }
 },
 "nbformat": 4,
 "nbformat_minor": 5
}
